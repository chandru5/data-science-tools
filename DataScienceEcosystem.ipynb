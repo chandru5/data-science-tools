{
 "cells": [
  {
   "cell_type": "markdown",
   "id": "95d5dbbe-0843-4808-abf2-b1a085fb9fd2",
   "metadata": {
    "tags": []
   },
   "source": [
    "# Data Science Tools and Ecosystem"
   ]
  },
  {
   "cell_type": "markdown",
   "id": "9b32a9ed-f779-4eb7-88c1-eda27accfcdc",
   "metadata": {},
   "source": [
    "#### In this notebook, Data Science Tools and Ecosystem are summarized."
   ]
  },
  {
   "cell_type": "markdown",
   "id": "43e6f0f0-f51b-482a-85b1-0592d0d0a709",
   "metadata": {},
   "source": [
    "#### **Objectives:**\n",
    "- Data Visualization tools are Pixie Dust, Hue, Kibana, and Apache Superset\n",
    "- Code asset management tools are Git, GitHub, GitLab, and Bitbucket.\n",
    "- Model deployment tools are Apache PredictionIO, Seldon, Kubernetes, Red Hat OpenShift, Mleap, TensorFlow service, TensorFlow lite, and TensorFlow dot JS. "
   ]
  },
  {
   "cell_type": "markdown",
   "id": "3d8d1621-b3b1-4b5a-816a-07cbefc06f95",
   "metadata": {},
   "source": [
    "##### Some of the popular languages that Data Scientists use are:\n",
    "1. Python\n",
    "2. R\n",
    "3. Scala\n",
    "4. Ruby"
   ]
  },
  {
   "cell_type": "markdown",
   "id": "22ab30cf-2d84-476b-a2a6-0d2ca20d7aac",
   "metadata": {},
   "source": [
    "##### Some of the commonly used libraries used by Data Scientists include:\n",
    "1. PyTorch\n",
    "2. Big DL\n",
    "3. ggplot2"
   ]
  },
  {
   "cell_type": "markdown",
   "id": "be942f99-f077-44ac-95b0-d0c20e1170b4",
   "metadata": {},
   "source": [
    "##### Data Science Tools\n",
    "<table>\n",
    "    <tr>\n",
    "        <td>R studio</td>\n",
    "    </tr>\n",
    "    <tr>\n",
    "        <td>Visual Studio</td>\n",
    "    </tr>\n",
    "    <tr>\n",
    "        <td>IBM Watson studio</td>\n",
    "    </tr>\n",
    "</table>"
   ]
  },
  {
   "cell_type": "markdown",
   "id": "24bb6f44-9188-47a2-b3d7-c45ff1894814",
   "metadata": {},
   "source": [
    "### Below are a few examples of evaluating arithmetic expressions in Python"
   ]
  },
  {
   "cell_type": "code",
   "execution_count": 6,
   "id": "b9115a6b-734d-45dd-87be-148cb9e913d6",
   "metadata": {
    "tags": []
   },
   "outputs": [
    {
     "data": {
      "text/plain": [
       "17"
      ]
     },
     "execution_count": 6,
     "metadata": {},
     "output_type": "execute_result"
    }
   ],
   "source": [
    "# This a simple arithmetic expression to mutiply then add integers \n",
    "(3*4)+5"
   ]
  },
  {
   "cell_type": "code",
   "execution_count": 7,
   "id": "cde3967b-f49a-41d9-a6f8-96a0a8bc622d",
   "metadata": {
    "tags": []
   },
   "outputs": [
    {
     "data": {
      "text/plain": [
       "3.3333333333333335"
      ]
     },
     "execution_count": 7,
     "metadata": {},
     "output_type": "execute_result"
    }
   ],
   "source": [
    "# This will convert 200 minutes to hours by diving by 60\n",
    "200/60"
   ]
  },
  {
   "cell_type": "markdown",
   "id": "c3da68ac-13d9-4197-ba73-c2e442d4f6cc",
   "metadata": {},
   "source": [
    "## Author \n",
    "##### P Chandrasekaran"
   ]
  }
 ],
 "metadata": {
  "kernelspec": {
   "display_name": "Python",
   "language": "python",
   "name": "conda-env-python-py"
  },
  "language_info": {
   "codemirror_mode": {
    "name": "ipython",
    "version": 3
   },
   "file_extension": ".py",
   "mimetype": "text/x-python",
   "name": "python",
   "nbconvert_exporter": "python",
   "pygments_lexer": "ipython3",
   "version": "3.7.12"
  }
 },
 "nbformat": 4,
 "nbformat_minor": 5
}
